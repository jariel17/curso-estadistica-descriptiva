{
 "cells": [
  {
   "attachments": {},
   "cell_type": "markdown",
   "metadata": {},
   "source": [
    "La matriz de covarianza es el objeto matemático que permite identificar cuáles variables están altamente correlacionadas. Cuando dos variables están altamente correlacionadas, quiere decir que aportan básicamente la misma información del problema y eso podría indicar que solo necesitaríamos una sola de ellas"
   ]
  },
  {
   "attachments": {},
   "cell_type": "markdown",
   "metadata": {},
   "source": [
    "## Repaso de matrices\n",
    "\n",
    "Las matrices en general son objetos matemáticos que tienen un cierto número de filas y columnas (estos números los denominamos dimensiones de la matriz)."
   ]
  },
  {
   "attachments": {},
   "cell_type": "markdown",
   "metadata": {},
   "source": [
    "#### Transpuesta\n",
    "Las matrices tienen una operación especial, que llamamos **transponer**, la cual consiste en ubicar cada fila como una columna en una nueva matriz, el resultado de una transposición se denomina matriz transpuesta"
   ]
  },
  {
   "attachments": {},
   "cell_type": "markdown",
   "metadata": {},
   "source": [
    "$\\begin{bmatrix}4&-3\\cr1&2\\end{bmatrix}^T = \\begin{bmatrix}4&1\\cr-3&2\\end{bmatrix}$"
   ]
  },
  {
   "attachments": {},
   "cell_type": "markdown",
   "metadata": {},
   "source": [
    "##### Suma y resta"
   ]
  },
  {
   "attachments": {},
   "cell_type": "markdown",
   "metadata": {},
   "source": [
    "Entre las matrices podemos definir reglas de **suma y resta** de forma similar a como hacemos con los números naturales o decimales, con una condición especial: ambas matrices deben tener las mismas dimensiones y cuando las dimensiones de una matriz son iguales entre ellas (# filas = # columnas) decimos que la *matriz es cuadrada.*"
   ]
  },
  {
   "attachments": {},
   "cell_type": "markdown",
   "metadata": {},
   "source": [
    "$\\begin{bmatrix}1&3\\cr2&0\\end{bmatrix} + \\begin{bmatrix}-1&1\\cr3&2\\end{bmatrix} = \\begin{bmatrix}-1+(-1)&3+1\\cr2+3&0+2\\end{bmatrix} = \\begin{bmatrix}0&4\\cr5&2\\end{bmatrix}$"
   ]
  },
  {
   "attachments": {},
   "cell_type": "markdown",
   "metadata": {},
   "source": [
    "#### Multiplicación\n",
    "Las matrices también tienen una operación de multiplicación entre ellas:"
   ]
  },
  {
   "attachments": {},
   "cell_type": "markdown",
   "metadata": {},
   "source": [
    "$\\begin{bmatrix} a_{11}&a_{12}\\cr a_{21}&a_{22} \\end{bmatrix} \\cdot \\begin{bmatrix} b_{11}&b_{12}\\cr b_{21}&b_{22} \\end{bmatrix} = \\begin{bmatrix} c_{11}&c_{12}\\cr c_{21}&c_{22} \\end{bmatrix}$"
   ]
  },
  {
   "attachments": {},
   "cell_type": "markdown",
   "metadata": {},
   "source": [
    "Para cacular los valores de $c$ seguimos este patrón:"
   ]
  },
  {
   "attachments": {},
   "cell_type": "markdown",
   "metadata": {},
   "source": [
    "$c_{11} = a_{11}b_{11} + a_{12}b_{21}$"
   ]
  },
  {
   "attachments": {},
   "cell_type": "markdown",
   "metadata": {},
   "source": [
    "$c_{12} = a_{11}b_{12} + a_{12}b_{22}$"
   ]
  },
  {
   "attachments": {},
   "cell_type": "markdown",
   "metadata": {},
   "source": [
    "$c_{21} = a_{21}b_{11} + a_{22}b_{21}$"
   ]
  },
  {
   "attachments": {},
   "cell_type": "markdown",
   "metadata": {},
   "source": [
    "$c_{22} = a_{21}b_{12} + a_{22}b_{22}$"
   ]
  },
  {
   "attachments": {},
   "cell_type": "markdown",
   "metadata": {},
   "source": [
    "El producto de matrices se calcula en Python con numpy:\n",
    "``np.matmul(A, B)``"
   ]
  },
  {
   "attachments": {},
   "cell_type": "markdown",
   "metadata": {},
   "source": [
    "#### Inverso de una matriz"
   ]
  },
  {
   "attachments": {},
   "cell_type": "markdown",
   "metadata": {},
   "source": [
    "Cada número tiene un inverso, en donde el inverso es aquel número tal que la multiplicación de ambos da 1:"
   ]
  },
  {
   "attachments": {},
   "cell_type": "markdown",
   "metadata": {},
   "source": [
    "$ 6 \\cdot \\frac{1}{6} = 1$"
   ]
  }
 ],
 "metadata": {
  "language_info": {
   "name": "python"
  },
  "orig_nbformat": 4
 },
 "nbformat": 4,
 "nbformat_minor": 2
}
