{
 "cells": [
  {
   "attachments": {},
   "cell_type": "markdown",
   "metadata": {},
   "source": [
    "La matriz de covarianza es el objeto matemático que permite identificar cuáles variables están altamente correlacionadas. Cuando dos variables están altamente correlacionadas, quiere decir que aportan básicamente la misma información del problema y eso podría indicar que solo necesitaríamos una sola de ellas"
   ]
  },
  {
   "attachments": {},
   "cell_type": "markdown",
   "metadata": {},
   "source": [
    "## Repaso de matrices\n",
    "\n",
    "Las matrices en general son objetos matemáticos que tienen un cierto número de filas y columnas (estos números los denominamos dimensiones de la matriz)."
   ]
  },
  {
   "attachments": {},
   "cell_type": "markdown",
   "metadata": {},
   "source": [
    "#### Transpuesta\n",
    "Las matrices tienen una operación especial, que llamamos **transponer**, la cual consiste en ubicar cada fila como una columna en una nueva matriz, el resultado de una transposición se denomina matriz transpuesta"
   ]
  },
  {
   "attachments": {},
   "cell_type": "markdown",
   "metadata": {},
   "source": [
    "$\\begin{bmatrix}4&-3\\cr1&2\\end{bmatrix}^T = \\begin{bmatrix}4&1\\cr-3&2\\end{bmatrix}$"
   ]
  },
  {
   "attachments": {},
   "cell_type": "markdown",
   "metadata": {},
   "source": [
    "##### Suma y resta"
   ]
  },
  {
   "attachments": {},
   "cell_type": "markdown",
   "metadata": {},
   "source": [
    "Entre las matrices podemos definir reglas de **suma y resta** de forma similar a como hacemos con los números naturales o decimales, con una condición especial: ambas matrices deben tener las mismas dimensiones y cuando las dimensiones de una matriz son iguales entre ellas (# filas = # columnas) decimos que la *matriz es cuadrada.*"
   ]
  },
  {
   "attachments": {},
   "cell_type": "markdown",
   "metadata": {},
   "source": [
    "$\\begin{bmatrix}1&3\\cr2&0\\end{bmatrix} + \\begin{bmatrix}-1&1\\cr3&2\\end{bmatrix} = \\begin{bmatrix}-1+(-1)&3+1\\cr2+3&0+2\\end{bmatrix} = \\begin{bmatrix}0&4\\cr5&2\\end{bmatrix}$"
   ]
  },
  {
   "attachments": {},
   "cell_type": "markdown",
   "metadata": {},
   "source": [
    "#### Multiplicación\n",
    "Las matrices también tienen una operación de multiplicación entre ellas:"
   ]
  },
  {
   "attachments": {},
   "cell_type": "markdown",
   "metadata": {},
   "source": [
    "$\\begin{bmatrix} a_{11}&a_{12}\\cr a_{21}&a_{22} \\end{bmatrix} \\cdot \\begin{bmatrix} b_{11}&b_{12}\\cr b_{21}&b_{22} \\end{bmatrix} = \\begin{bmatrix} c_{11}&c_{12}\\cr c_{21}&c_{22} \\end{bmatrix}$"
   ]
  },
  {
   "attachments": {},
   "cell_type": "markdown",
   "metadata": {},
   "source": [
    "Para cacular los valores de $c$ seguimos este patrón:"
   ]
  },
  {
   "attachments": {},
   "cell_type": "markdown",
   "metadata": {},
   "source": [
    "$c_{11} = a_{11}b_{11} + a_{12}b_{21}$"
   ]
  },
  {
   "attachments": {},
   "cell_type": "markdown",
   "metadata": {},
   "source": [
    "$c_{12} = a_{11}b_{12} + a_{12}b_{22}$"
   ]
  },
  {
   "attachments": {},
   "cell_type": "markdown",
   "metadata": {},
   "source": [
    "$c_{21} = a_{21}b_{11} + a_{22}b_{21}$"
   ]
  },
  {
   "attachments": {},
   "cell_type": "markdown",
   "metadata": {},
   "source": [
    "$c_{22} = a_{21}b_{12} + a_{22}b_{22}$"
   ]
  },
  {
   "attachments": {},
   "cell_type": "markdown",
   "metadata": {},
   "source": [
    "El producto de matrices se calcula en Python con numpy:\n",
    "``np.matmul(A, B)``"
   ]
  },
  {
   "attachments": {},
   "cell_type": "markdown",
   "metadata": {},
   "source": [
    "#### Inverso de una matriz"
   ]
  },
  {
   "attachments": {},
   "cell_type": "markdown",
   "metadata": {},
   "source": [
    "Cada número tiene un inverso, en donde el inverso es aquel número tal que la multiplicación de ambos da 1:"
   ]
  },
  {
   "attachments": {},
   "cell_type": "markdown",
   "metadata": {},
   "source": [
    "$ 6 \\cdot \\frac{1}{6} = 1$"
   ]
  },
  {
   "attachments": {},
   "cell_type": "markdown",
   "metadata": {},
   "source": [
    "Las matrices también pueden tener su inversa (aunque no siempre), la matriz inversa A-1de una matriz dada A se define como aquella matriz donde (supongamos que A es 2x2):"
   ]
  },
  {
   "attachments": {},
   "cell_type": "markdown",
   "metadata": {},
   "source": [
    "$ A \\cdot A^{-1} = \\begin{bmatrix}1&0\\cr0&1\\end{bmatrix} $"
   ]
  },
  {
   "cell_type": "code",
   "execution_count": 4,
   "metadata": {},
   "outputs": [
    {
     "data": {
      "text/plain": [
       "array([[ 0.25 , -0.5  ],\n",
       "       [ 0.125,  0.25 ]])"
      ]
     },
     "execution_count": 4,
     "metadata": {},
     "output_type": "execute_result"
    }
   ],
   "source": [
    "import numpy as np\n",
    "\n",
    "\n",
    "A = np.array([[2, 4], [-1, 2]])\n",
    "Ainversa = np.linalg.inv(A)\n",
    "Ainversa"
   ]
  },
  {
   "cell_type": "code",
   "execution_count": 5,
   "metadata": {},
   "outputs": [
    {
     "data": {
      "text/plain": [
       "array([[1., 0.],\n",
       "       [0., 1.]])"
      ]
     },
     "execution_count": 5,
     "metadata": {},
     "output_type": "execute_result"
    }
   ],
   "source": [
    "# Verificando la inversa\n",
    "\n",
    "np.matmul(A, Ainversa)"
   ]
  },
  {
   "attachments": {},
   "cell_type": "markdown",
   "metadata": {},
   "source": [
    "#### Vectores"
   ]
  },
  {
   "attachments": {},
   "cell_type": "markdown",
   "metadata": {},
   "source": [
    "Tambien podemos calcular el producto de una matriz por un vector:"
   ]
  },
  {
   "attachments": {},
   "cell_type": "markdown",
   "metadata": {},
   "source": [
    "$\\begin{bmatrix} a_{11}&a_{12}\\cr a_{21}&a_{22} \\end{bmatrix} \\cdot \\begin{bmatrix} v_{11}\\cr v_{21} \\end{bmatrix} = \\begin{bmatrix} a_{11}v_1 + a_{12}v_2\\cr a_{21}v_1 + a_{22}v_2 \\end{bmatrix}$"
   ]
  },
  {
   "attachments": {},
   "cell_type": "markdown",
   "metadata": {},
   "source": [
    "#### Producto Punto"
   ]
  },
  {
   "attachments": {},
   "cell_type": "markdown",
   "metadata": {},
   "source": [
    "$ \\overrightarrow{a} \\cdot \\overrightarrow{b} = \\begin{bmatrix} x_1&y_1 \\end{bmatrix} \\cdot \\begin{bmatrix} x_2\\cr y_2 \\end{bmatrix} = x_1x_2 + y_1y_2 $"
   ]
  },
  {
   "attachments": {},
   "cell_type": "markdown",
   "metadata": {},
   "source": [
    "Al mutiplicar un vector por el mismo se aplica la misma definición:"
   ]
  },
  {
   "attachments": {},
   "cell_type": "markdown",
   "metadata": {},
   "source": [
    "$ \\overrightarrow{a} \\cdot \\overrightarrow{a} = \\begin{bmatrix} x_1&y_1 \\end{bmatrix} \\cdot \\begin{bmatrix} x_1\\cr y_1 \\end{bmatrix} = x^2_1 + y^2_1 $"
   ]
  },
  {
   "attachments": {},
   "cell_type": "markdown",
   "metadata": {},
   "source": [
    "$ x^2_1 + y^2_1 = |\\overrightarrow{a}|^2  $"
   ]
  },
  {
   "attachments": {},
   "cell_type": "markdown",
   "metadata": {},
   "source": [
    "$ |\\overrightarrow{a}| = \\sqrt{x_1^2 + y_1^2} = \\sqrt{\\overrightarrow{a} \\cdot \\overrightarrow{a} } $"
   ]
  },
  {
   "attachments": {},
   "cell_type": "markdown",
   "metadata": {},
   "source": [
    "#### Vectores y valores propios de una matriz"
   ]
  },
  {
   "attachments": {},
   "cell_type": "markdown",
   "metadata": {},
   "source": [
    "En álgebra lineal podemos tener ecuaciones donde la incógnita es un vector"
   ]
  },
  {
   "attachments": {},
   "cell_type": "markdown",
   "metadata": {},
   "source": [
    "$ A \\cdot \\overrightarrow{x} = \\lambda\\overrightarrow{x} $"
   ]
  },
  {
   "attachments": {},
   "cell_type": "markdown",
   "metadata": {},
   "source": [
    " A es una matriz cuadrada NxN cuyos elementos conocemos perfectamente y X es un vector columna cuyas componentes desconocemos. Mltiplicar un vector por un número es simplemente multiplicar cada componente del vector por dicho número.\n",
    " Lo que esta ecuación nos pregunta es:\n",
    " ¿Existen vectores X tales que al multiplicarlos por la matriz A eso es equivalente a simplemente multiplicarlos por un número?\n",
    "\n",
    "Si tal vector existe y está asociado a un valor específico de λ, entonces decimos que el vector X es un vector propio de la matriz A y λ es su valor propio correspondiente."
   ]
  }
 ],
 "metadata": {
  "kernelspec": {
   "display_name": "env",
   "language": "python",
   "name": "python3"
  },
  "language_info": {
   "codemirror_mode": {
    "name": "ipython",
    "version": 3
   },
   "file_extension": ".py",
   "mimetype": "text/x-python",
   "name": "python",
   "nbconvert_exporter": "python",
   "pygments_lexer": "ipython3",
   "version": "3.10.6"
  },
  "orig_nbformat": 4
 },
 "nbformat": 4,
 "nbformat_minor": 2
}
