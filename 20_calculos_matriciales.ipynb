{
 "cells": [
  {
   "attachments": {},
   "cell_type": "markdown",
   "metadata": {},
   "source": [
    "La matriz de covarianza es el objeto matemático que permite identificar cuáles variables están altamente correlacionadas. Cuando dos variables están altamente correlacionadas, quiere decir que aportan básicamente la misma información del problema y eso podría indicar que solo necesitaríamos una sola de ellas"
   ]
  },
  {
   "attachments": {},
   "cell_type": "markdown",
   "metadata": {},
   "source": [
    "## Repaso de matrices\n",
    "\n",
    "Las matrices en general son objetos matemáticos que tienen un cierto número de filas y columnas (estos números los denominamos dimensiones de la matriz)."
   ]
  },
  {
   "attachments": {},
   "cell_type": "markdown",
   "metadata": {},
   "source": [
    "#### Transpuesta\n",
    "Las matrices tienen una operación especial, que llamamos **transponer**, la cual consiste en ubicar cada fila como una columna en una nueva matriz, el resultado de una transposición se denomina matriz transpuesta"
   ]
  },
  {
   "attachments": {},
   "cell_type": "markdown",
   "metadata": {},
   "source": [
    "$\\begin{bmatrix}4&-3\\cr1&2\\end{bmatrix}^T = \\begin{bmatrix}4&1\\cr-3&2\\end{bmatrix}$"
   ]
  },
  {
   "attachments": {},
   "cell_type": "markdown",
   "metadata": {},
   "source": [
    "##### Suma y resta"
   ]
  },
  {
   "attachments": {},
   "cell_type": "markdown",
   "metadata": {},
   "source": [
    "Entre las matrices podemos definir reglas de **suma y resta** de forma similar a como hacemos con los números naturales o decimales, con una condición especial: ambas matrices deben tener las mismas dimensiones y cuando las dimensiones de una matriz son iguales entre ellas (# filas = # columnas) decimos que la *matriz es cuadrada.*"
   ]
  },
  {
   "attachments": {},
   "cell_type": "markdown",
   "metadata": {},
   "source": [
    "$\\begin{bmatrix}1&3\\cr2&0\\end{bmatrix} + \\begin{bmatrix}-1&1\\cr3&2\\end{bmatrix} = \\begin{bmatrix}-1+(-1)&3+1\\cr2+3&0+2\\end{bmatrix} = \\begin{bmatrix}0&4\\cr5&2\\end{bmatrix}$"
   ]
  },
  {
   "attachments": {},
   "cell_type": "markdown",
   "metadata": {},
   "source": [
    "#### Multiplicación\n",
    "Las matrices también tienen una operación de multiplicación entre ellas:"
   ]
  },
  {
   "attachments": {},
   "cell_type": "markdown",
   "metadata": {},
   "source": [
    "$\\begin{bmatrix} a_{11}&a_{12}\\cr a_{21}&a_{22} \\end{bmatrix} \\cdot \\begin{bmatrix} b_{11}&b_{12}\\cr b_{21}&b_{22} \\end{bmatrix} = \\begin{bmatrix} c_{11}&c_{12}\\cr c_{21}&c_{22} \\end{bmatrix}$"
   ]
  },
  {
   "attachments": {},
   "cell_type": "markdown",
   "metadata": {},
   "source": [
    "Para cacular los valores de $c$ seguimos este patrón:"
   ]
  },
  {
   "attachments": {},
   "cell_type": "markdown",
   "metadata": {},
   "source": [
    "$c_{11} = a_{11}b_{11} + a_{12}b_{21}$"
   ]
  },
  {
   "attachments": {},
   "cell_type": "markdown",
   "metadata": {},
   "source": [
    "$c_{12} = a_{11}b_{12} + a_{12}b_{22}$"
   ]
  },
  {
   "attachments": {},
   "cell_type": "markdown",
   "metadata": {},
   "source": [
    "$c_{21} = a_{21}b_{11} + a_{22}b_{21}$"
   ]
  },
  {
   "attachments": {},
   "cell_type": "markdown",
   "metadata": {},
   "source": [
    "$c_{22} = a_{21}b_{12} + a_{22}b_{22}$"
   ]
  },
  {
   "attachments": {},
   "cell_type": "markdown",
   "metadata": {},
   "source": [
    "El producto de matrices se calcula en Python con numpy:\n",
    "``np.matmul(A, B)``"
   ]
  },
  {
   "attachments": {},
   "cell_type": "markdown",
   "metadata": {},
   "source": [
    "#### Inverso de una matriz"
   ]
  },
  {
   "attachments": {},
   "cell_type": "markdown",
   "metadata": {},
   "source": [
    "Cada número tiene un inverso, en donde el inverso es aquel número tal que la multiplicación de ambos da 1:"
   ]
  },
  {
   "attachments": {},
   "cell_type": "markdown",
   "metadata": {},
   "source": [
    "$ 6 \\cdot \\frac{1}{6} = 1$"
   ]
  },
  {
   "attachments": {},
   "cell_type": "markdown",
   "metadata": {},
   "source": [
    "Las matrices también pueden tener su inversa (aunque no siempre), la matriz inversa A-1de una matriz dada A se define como aquella matriz donde (supongamos que A es 2x2):"
   ]
  },
  {
   "attachments": {},
   "cell_type": "markdown",
   "metadata": {},
   "source": [
    "$ A \\cdot A^{-1} = \\begin{bmatrix}1&0\\cr0&1\\end{bmatrix} $"
   ]
  },
  {
   "cell_type": "code",
   "execution_count": 1,
   "metadata": {},
   "outputs": [
    {
     "data": {
      "text/plain": [
       "array([[ 0.25 , -0.5  ],\n",
       "       [ 0.125,  0.25 ]])"
      ]
     },
     "execution_count": 1,
     "metadata": {},
     "output_type": "execute_result"
    }
   ],
   "source": [
    "import numpy as np\n",
    "\n",
    "\n",
    "A = np.array([[2, 4], [-1, 2]])\n",
    "Ainversa = np.linalg.inv(A)\n",
    "Ainversa"
   ]
  },
  {
   "cell_type": "code",
   "execution_count": 2,
   "metadata": {},
   "outputs": [
    {
     "data": {
      "text/plain": [
       "array([[1., 0.],\n",
       "       [0., 1.]])"
      ]
     },
     "execution_count": 2,
     "metadata": {},
     "output_type": "execute_result"
    }
   ],
   "source": [
    "# Verificando la inversa\n",
    "\n",
    "np.matmul(A, Ainversa)"
   ]
  },
  {
   "attachments": {},
   "cell_type": "markdown",
   "metadata": {},
   "source": [
    "#### Vectores"
   ]
  },
  {
   "attachments": {},
   "cell_type": "markdown",
   "metadata": {},
   "source": [
    "Tambien podemos calcular el producto de una matriz por un vector:"
   ]
  },
  {
   "attachments": {},
   "cell_type": "markdown",
   "metadata": {},
   "source": [
    "$\\begin{bmatrix} a_{11}&a_{12}\\cr a_{21}&a_{22} \\end{bmatrix} \\cdot \\begin{bmatrix} v_{11}\\cr v_{21} \\end{bmatrix} = \\begin{bmatrix} a_{11}v_1 + a_{12}v_2\\cr a_{21}v_1 + a_{22}v_2 \\end{bmatrix}$"
   ]
  },
  {
   "attachments": {},
   "cell_type": "markdown",
   "metadata": {},
   "source": [
    "#### Producto Punto"
   ]
  },
  {
   "attachments": {},
   "cell_type": "markdown",
   "metadata": {},
   "source": [
    "$ \\overrightarrow{a} \\cdot \\overrightarrow{b} = \\begin{bmatrix} x_1&y_1 \\end{bmatrix} \\cdot \\begin{bmatrix} x_2\\cr y_2 \\end{bmatrix} = x_1x_2 + y_1y_2 $"
   ]
  },
  {
   "attachments": {},
   "cell_type": "markdown",
   "metadata": {},
   "source": [
    "Al mutiplicar un vector por el mismo se aplica la misma definición:"
   ]
  },
  {
   "attachments": {},
   "cell_type": "markdown",
   "metadata": {},
   "source": [
    "$ \\overrightarrow{a} \\cdot \\overrightarrow{a} = \\begin{bmatrix} x_1&y_1 \\end{bmatrix} \\cdot \\begin{bmatrix} x_1\\cr y_1 \\end{bmatrix} = x^2_1 + y^2_1 $"
   ]
  },
  {
   "attachments": {},
   "cell_type": "markdown",
   "metadata": {},
   "source": [
    "$ x^2_1 + y^2_1 = |\\overrightarrow{a}|^2  $"
   ]
  },
  {
   "attachments": {},
   "cell_type": "markdown",
   "metadata": {},
   "source": [
    "La longitud de un vector, también conocida como norma del vector se calcula:"
   ]
  },
  {
   "attachments": {},
   "cell_type": "markdown",
   "metadata": {},
   "source": [
    "$ |\\overrightarrow{a}| = \\sqrt{x_1^2 + y_1^2} = \\sqrt{\\overrightarrow{a} \\cdot \\overrightarrow{a} } $"
   ]
  },
  {
   "attachments": {},
   "cell_type": "markdown",
   "metadata": {},
   "source": [
    "#### Vectores y valores propios de una matriz"
   ]
  },
  {
   "attachments": {},
   "cell_type": "markdown",
   "metadata": {},
   "source": [
    "Cuando se viaja en una montaña rusa, la velocidad y la dirección cambian constantemente. De manera similar, al multiplicar una matriz por un vector, el vector resultante se transforma en una nueva dirección y puede cambiar de longitud. Sin embargo, los valores propios de una matriz son puntos especiales donde el vector resultante sólo cambia en longitud, pero no en dirección. De hecho, los vectores propios correspondientes a los valores propios son aquellos que sólo se estiran o encogen cuando se multiplican por la matriz.\n",
    "\n",
    "Así como los puntos críticos en una montaña rusa son importantes para comprender el recorrido, los valores propios son importantes para comprender cómo la matriz afecta a los vectores. Al igual que los diseñadores de montañas rusas intentan crear emociones y experiencias específicas para los pasajeros, los matemáticos y científicos de datos utilizan los valores propios para entender y controlar cómo las matrices transforman los vectores en diferentes contextos y aplicaciones."
   ]
  },
  {
   "attachments": {},
   "cell_type": "markdown",
   "metadata": {},
   "source": [
    "En términos matemáticos, si A es una matriz cuadrada de orden n, λ es un número real o complejo y x es un vector no nulo de dimensión n, entonces λ es un valor propio de A asociado al vector propio x si y solo si:"
   ]
  },
  {
   "attachments": {},
   "cell_type": "markdown",
   "metadata": {},
   "source": [
    "$ A \\cdot \\overrightarrow{x} = \\lambda\\overrightarrow{x} $"
   ]
  },
  {
   "attachments": {},
   "cell_type": "markdown",
   "metadata": {},
   "source": [
    " A es una matriz cuadrada NxN cuyos elementos conocemos perfectamente y X es un vector columna cuyas componentes desconocemos. Mltiplicar un vector por un número es simplemente multiplicar cada componente del vector por dicho número.\n",
    " Lo que esta ecuación nos pregunta es:\n",
    " ¿Existen vectores X tales que al multiplicarlos por la matriz A eso es equivalente a simplemente multiplicarlos por un número?\n",
    "\n",
    "Si tal vector existe y está asociado a un valor específico de λ, entonces decimos que el vector X es un vector propio de la matriz A y λ es su valor propio correspondiente."
   ]
  },
  {
   "attachments": {},
   "cell_type": "markdown",
   "metadata": {},
   "source": [
    "Por ejemplo:"
   ]
  },
  {
   "attachments": {},
   "cell_type": "markdown",
   "metadata": {},
   "source": [
    "$\\begin{bmatrix}1&2\\cr1&0\\end{bmatrix} \\cdot \\begin{bmatrix}x\\cr{y}\\end{bmatrix} = \\lambda\\begin{bmatrix}x\\cr{y}\\end{bmatrix} $"
   ]
  },
  {
   "attachments": {},
   "cell_type": "markdown",
   "metadata": {},
   "source": [
    "$\\begin{bmatrix}x + 2y\\cr{x}\\end{bmatrix} = \\begin{bmatrix}\\lambda x\\cr \\lambda y\\end{bmatrix} $"
   ]
  },
  {
   "attachments": {},
   "cell_type": "markdown",
   "metadata": {},
   "source": [
    "Así encontramos el sistema de ecuaciones"
   ]
  },
  {
   "attachments": {},
   "cell_type": "markdown",
   "metadata": {},
   "source": [
    "Ahora podemos resolver esto en Python así:"
   ]
  },
  {
   "cell_type": "code",
   "execution_count": 3,
   "metadata": {},
   "outputs": [
    {
     "name": "stdout",
     "output_type": "stream",
     "text": [
      "[ 2. -1.] [[ 0.89442719 -0.70710678]\n",
      " [ 0.4472136   0.70710678]]\n"
     ]
    }
   ],
   "source": [
    "import numpy as np\n",
    "A = np.array([[1, 2], [1, 0]])\n",
    "values, vectors = np.linalg.eig(A)\n",
    "print(values, vectors)"
   ]
  },
  {
   "attachments": {},
   "cell_type": "markdown",
   "metadata": {},
   "source": [
    "Donde la matriz A contiene los elementos exactos de la matriz anterior y el comando np.linalg.eig(A) lo que hace es calcular directamente los valores y vectores propios, llamados values y vectors en el código, respectivamente."
   ]
  },
  {
   "attachments": {},
   "cell_type": "markdown",
   "metadata": {},
   "source": [
    "$\\begin{bmatrix}x\\cr{y}\\end{bmatrix} = \\begin{bmatrix}0.89442719\\cr{0.4472136}\\end{bmatrix} , \\lambda = 2 $"
   ]
  },
  {
   "attachments": {},
   "cell_type": "markdown",
   "metadata": {},
   "source": [
    "$\\begin{bmatrix}x\\cr{y}\\end{bmatrix} = \\begin{bmatrix}-0.70710678\\cr{0.70710678}\\end{bmatrix} , \\lambda = -1 $"
   ]
  },
  {
   "attachments": {},
   "cell_type": "markdown",
   "metadata": {},
   "source": [
    "Se puede verificar que cada vector y su correspondiente valor propio cumplen la ecuación original ejecutando cada parte"
   ]
  },
  {
   "cell_type": "code",
   "execution_count": 9,
   "metadata": {},
   "outputs": [
    {
     "data": {
      "text/plain": [
       "array([ 0.70710678, -0.70710678])"
      ]
     },
     "execution_count": 9,
     "metadata": {},
     "output_type": "execute_result"
    }
   ],
   "source": [
    "np.matmul(A, vectors.T[1])"
   ]
  },
  {
   "cell_type": "code",
   "execution_count": 10,
   "metadata": {},
   "outputs": [
    {
     "data": {
      "text/plain": [
       "array([ 0.70710678, -0.70710678])"
      ]
     },
     "execution_count": 10,
     "metadata": {},
     "output_type": "execute_result"
    }
   ],
   "source": [
    "values[1]*vectors.T[1]"
   ]
  },
  {
   "cell_type": "code",
   "execution_count": 8,
   "metadata": {},
   "outputs": [
    {
     "data": {
      "text/plain": [
       "array([-0.70710678,  0.70710678])"
      ]
     },
     "execution_count": 8,
     "metadata": {},
     "output_type": "execute_result"
    }
   ],
   "source": [
    "vectors.T[1]"
   ]
  },
  {
   "attachments": {},
   "cell_type": "markdown",
   "metadata": {},
   "source": [
    "Diagonalizar una matriz es un proceso en el que se transforma una matriz en otra matriz diagonal mediante una matriz de cambio de base. Esto es importante porque las matrices diagonales son mucho más fáciles de trabajar y de calcular que las matrices generales."
   ]
  },
  {
   "attachments": {},
   "cell_type": "markdown",
   "metadata": {},
   "source": [
    "Una matriz A es diagonizable si cumple el siguiente criterio:"
   ]
  },
  {
   "attachments": {},
   "cell_type": "markdown",
   "metadata": {},
   "source": [
    "$ A = P \\cdot D \\cdot P^{-1}$"
   ]
  },
  {
   "attachments": {},
   "cell_type": "markdown",
   "metadata": {},
   "source": [
    "Donde D es una matriz diagonal (matriz donde todos los elementos por fuera de la diagonal son cero)"
   ]
  },
  {
   "attachments": {},
   "cell_type": "markdown",
   "metadata": {},
   "source": [
    "si una matriz es diagonalizable, la matriz D se construye colocando sus valores propios en la diagonal y la matriz P se construye colocando en cada columna el vector propio,siguiendo el mismo orden de valores propios correspondientes de la matriz D, así:"
   ]
  },
  {
   "attachments": {},
   "cell_type": "markdown",
   "metadata": {},
   "source": [
    "$ P\\cdot DP^{-1} = \\begin{bmatrix} \\vdots&\\vdots&\\vdots\\cr\\overrightarrow{x_1}&\\overrightarrow{x_2}&\\overrightarrow{x_3}\\cr\\vdots&\\vdots&\\vdots \\end{bmatrix} \\begin{bmatrix} λ_1&0&0\\cr0&λ_2&0\\cr0&0&λ_3\\end{bmatrix} {\\begin{bmatrix} \\vdots&\\vdots&\\vdots\\cr\\overrightarrow{x_1}&\\overrightarrow{x_2}&\\overrightarrow{x_3}\\cr\\vdots&\\vdots&\\vdots \\end{bmatrix}}^{-1} $"
   ]
  },
  {
   "attachments": {},
   "cell_type": "markdown",
   "metadata": {},
   "source": [
    "Cuando aplicamos este cálculo de vectores y valores propios a una matriz de covarianza, los vectores representan las direcciones a lo largo de las cuales tendremos la mayor cantidad de varianza de ese conjunto de datos, donde la cantidad de varianza es proporcional al valor de cada vector propio."
   ]
  },
  {
   "attachments": {},
   "cell_type": "markdown",
   "metadata": {},
   "source": [
    "Para matrices de covarianza, sus vectores propios siempre son independientes unos de otros y esto es justamente lo que queremos en un proceso de reducción de variables, porque direcciones independientes implica que estos vectores representan nuevas variables cuya correlación es la más baja posible y así cada nueva variable es lo más representativa posible."
   ]
  },
  {
   "attachments": {},
   "cell_type": "markdown",
   "metadata": {},
   "source": [
    "Los vectores propios de una matriz de covarianza son ortogonales (el producto interno de cualquier par de estos vectores siempre da como resultado cero):"
   ]
  },
  {
   "attachments": {},
   "cell_type": "markdown",
   "metadata": {},
   "source": [
    "$ \\overrightarrow{x_i} \\cdot \\overrightarrow{x_j} = 0 $"
   ]
  },
  {
   "attachments": {},
   "cell_type": "markdown",
   "metadata": {},
   "source": [
    "Como consecuencia la matriz se denomina matriz ortogonal, y se sabe en matemáticas que la inversa de una matriz ortogonal es igual a la transpuesta, de manera que:"
   ]
  },
  {
   "attachments": {},
   "cell_type": "markdown",
   "metadata": {},
   "source": [
    "$ A = P \\cdot D \\cdot P^{-1} = P \\cdot D \\cdot P^T $"
   ]
  }
 ],
 "metadata": {
  "kernelspec": {
   "display_name": "env",
   "language": "python",
   "name": "python3"
  },
  "language_info": {
   "codemirror_mode": {
    "name": "ipython",
    "version": 3
   },
   "file_extension": ".py",
   "mimetype": "text/x-python",
   "name": "python",
   "nbconvert_exporter": "python",
   "pygments_lexer": "ipython3",
   "version": "3.10.6"
  },
  "orig_nbformat": 4
 },
 "nbformat": 4,
 "nbformat_minor": 2
}
