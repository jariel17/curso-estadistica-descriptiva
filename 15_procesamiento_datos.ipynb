{
 "cells": [
  {
   "attachments": {},
   "cell_type": "markdown",
   "metadata": {},
   "source": [
    "# Escalamiento de datos númericos"
   ]
  },
  {
   "attachments": {},
   "cell_type": "markdown",
   "metadata": {},
   "source": [
    "##### El problema:\n",
    "Cuando se trabaja con conjuntos de datos que contienen características con diferentes escalas o magnitudes, es posible que algunas características tengan un mayor impacto en el modelo debido a su rango de valores más grande. Esto puede hacer que el modelo se sesgue hacia las características con valores más altos y que las características con valores más bajos sean ignoradas o tengan un impacto menor."
   ]
  },
  {
   "attachments": {},
   "cell_type": "markdown",
   "metadata": {},
   "source": [
    "##### La solución:\n",
    "El escalamiento lineal resuelve este problema al transformar los valores de las características para que estén en una escala común. El escalamiento lineal se refiere a una técnica utilizada para normalizar o estandarizar los datos antes de aplicar algoritmos de aprendizaje automático. El objetivo del escalamiento lineal es ajustar los valores de las características (variables) en un rango específico para evitar sesgos o influencias desproporcionadas en el modelo de machine learning. Esto va a permitir la convergencia del modelo de machine learning.\n"
   ]
  },
  {
   "attachments": {},
   "cell_type": "markdown",
   "metadata": {},
   "source": [
    "#### El escalamiento lineal:\n",
    "Es una técnica que ajusta los valores de las características en un rango específico, generalmente entre 0 y 1 o -1 y 1. Se utiliza una transformación lineal para lograr esto, donde los valores originales se escalan proporcionalmente dentro del rango deseado. La fórmula de normalización min-max es un ejemplo de escalamiento lineal."
   ]
  },
  {
   "attachments": {},
   "cell_type": "markdown",
   "metadata": {},
   "source": [
    "#### Usamos el escalamiento lineal cuando:\n",
    "- Nuestros datos están uniformemente distribuidos\n",
    "- La data es simétrica"
   ]
  },
  {
   "attachments": {},
   "cell_type": "markdown",
   "metadata": {},
   "source": [
    "###  Transformaciones lineales"
   ]
  },
  {
   "cell_type": "code",
   "execution_count": 2,
   "metadata": {},
   "outputs": [],
   "source": [
    "import timeit\n",
    "import numpy as np\n",
    "import pandas as pd\n",
    "import matplotlib.pyplot as plt\n",
    "from sklearn import datasets, linear_model\n",
    "\n",
    "X, y = datasets.load_diabetes(return_X_y=True)\n",
    "raw = X[:, None, 2]"
   ]
  },
  {
   "attachments": {},
   "cell_type": "markdown",
   "metadata": {},
   "source": [
    "Detalles del dataset: https://scikit-learn.org/stable/modules/generated/sklearn.datasets.load_diabetes.html \n"
   ]
  },
  {
   "cell_type": "code",
   "execution_count": 3,
   "metadata": {},
   "outputs": [
    {
     "data": {
      "text/plain": [
       "(array([32., 66., 98., 90., 61., 53., 23., 12.,  5.,  2.]),\n",
       " array([-1. , -0.8, -0.6, -0.4, -0.2,  0. ,  0.2,  0.4,  0.6,  0.8,  1. ]),\n",
       " <BarContainer object of 10 artists>)"
      ]
     },
     "execution_count": 3,
     "metadata": {},
     "output_type": "execute_result"
    },
    {
     "data": {
      "image/png": "[encoded data removed]",
      "text/plain": [
       "<Figure size 640x480 with 2 Axes>"
      ]
     },
     "metadata": {},
     "output_type": "display_data"
    }
   ],
   "source": [
    "# reglas de escalamiento min - max \n",
    "max_raw = max(raw)\n",
    "min_raw = min(raw)\n",
    "scaled = (2*raw - max_raw - min_raw) / (max_raw - min_raw)\n",
    "\n",
    "fig, axs = plt.subplots(2, 1, sharex = True)\n",
    "\n",
    "axs[0].hist(raw)\n",
    "axs[1].hist(scaled)"
   ]
  },
  {
   "cell_type": "code",
   "execution_count": 4,
   "metadata": {},
   "outputs": [],
   "source": [
    "# modelos para entrenamiento\n",
    "\n",
    "def train_raw():\n",
    "    linear_model.LinearRegression().fit(raw, y)\n",
    "\n",
    "def train_scaled():\n",
    "    linear_model.LinearRegression().fit(scaled, y)"
   ]
  },
  {
   "cell_type": "code",
   "execution_count": 5,
   "metadata": {},
   "outputs": [
    {
     "name": "stdout",
     "output_type": "stream",
     "text": [
      "train_raw: 0.0696549490000109\n",
      "train_scaled: 0.04343393599999956\n"
     ]
    }
   ],
   "source": [
    "raw_time = timeit.timeit(train_raw, number = 100)\n",
    "scaled_time = timeit.timeit(train_scaled, number = 100)\n",
    "print('train_raw: {}'.format(raw_time))\n",
    "print('train_scaled: {}'.format(scaled_time))"
   ]
  },
  {
   "attachments": {},
   "cell_type": "markdown",
   "metadata": {},
   "source": [
    "- max-min scaling: mejor para datos uniformemente distribuidos\n",
    "- z-score scaling: mejor para datos distrbuidos normalmente (campana de Gauss)"
   ]
  },
  {
   "cell_type": "code",
   "execution_count": 6,
   "metadata": {},
   "outputs": [
    {
     "data": {
      "text/plain": [
       "(array([32., 66., 98., 90., 61., 53., 23., 12.,  5.,  2.]),\n",
       " array([-1.89792941, -1.34956464, -0.80119987, -0.2528351 ,  0.29552967,\n",
       "         0.84389444,  1.39225921,  1.94062398,  2.48898875,  3.03735352,\n",
       "         3.58571828]),\n",
       " <BarContainer object of 10 artists>)"
      ]
     },
     "execution_count": 6,
     "metadata": {},
     "output_type": "execute_result"
    },
    {
     "data": {
      "image/png": "[encoded data removed]",
      "text/plain": [
       "<Figure size 640x480 with 2 Axes>"
      ]
     },
     "metadata": {},
     "output_type": "display_data"
    }
   ],
   "source": [
    "# escalamiento z\n",
    "\n",
    "media = raw.mean()\n",
    "desv_std = raw.std()\n",
    "z_scaled = (raw - media)/desv_std\n",
    "\n",
    "fig, axs = plt.subplots(2, 1, sharex = True)\n",
    "\n",
    "axs[0].hist(raw)\n",
    "axs[1].hist(z_scaled)"
   ]
  },
  {
   "cell_type": "code",
   "execution_count": 7,
   "metadata": {},
   "outputs": [
    {
     "data": {
      "text/plain": [
       "-2.813234813529808e-17"
      ]
     },
     "execution_count": 7,
     "metadata": {},
     "output_type": "execute_result"
    }
   ],
   "source": [
    "z_scaled.mean()"
   ]
  },
  {
   "cell_type": "code",
   "execution_count": 8,
   "metadata": {},
   "outputs": [
    {
     "data": {
      "text/plain": [
       "1.0"
      ]
     },
     "execution_count": 8,
     "metadata": {},
     "output_type": "execute_result"
    }
   ],
   "source": [
    "z_scaled.std()"
   ]
  },
  {
   "cell_type": "code",
   "execution_count": 9,
   "metadata": {},
   "outputs": [],
   "source": [
    "# modelos para entrenamiento\n",
    "\n",
    "def train_raw():\n",
    "    linear_model.LinearRegression().fit(raw, y)\n",
    "\n",
    "def train_z_scaled():\n",
    "    linear_model.LinearRegression().fit(z_scaled, y)"
   ]
  },
  {
   "cell_type": "code",
   "execution_count": 10,
   "metadata": {},
   "outputs": [
    {
     "name": "stdout",
     "output_type": "stream",
     "text": [
      "train_raw: 0.10090588499998887\n",
      "train_scaled: 0.06413895200000752\n"
     ]
    }
   ],
   "source": [
    "raw_time = timeit.timeit(train_raw, number = 100)\n",
    "z_scaled_time = timeit.timeit(train_scaled, number = 100)\n",
    "print('train_raw: {}'.format(raw_time))\n",
    "print('train_scaled: {}'.format(z_scaled_time))"
   ]
  },
  {
   "attachments": {},
   "cell_type": "markdown",
   "metadata": {},
   "source": [
    "Utilidades de Scikit Learn: http://scikit-learn.org/stable/modules/preprocessing.html"
   ]
  },
  {
   "attachments": {},
   "cell_type": "markdown",
   "metadata": {},
   "source": [
    "### Transformaciones no lineales"
   ]
  },
  {
   "cell_type": "code",
   "execution_count": 11,
   "metadata": {},
   "outputs": [
    {
     "data": {
      "text/html": [
       "<div>\n",
       "<style scoped>\n",
       "    .dataframe tbody tr th:only-of-type {\n",
       "        vertical-align: middle;\n",
       "    }\n",
       "\n",
       "    .dataframe tbody tr th {\n",
       "        vertical-align: top;\n",
       "    }\n",
       "\n",
       "    .dataframe thead th {\n",
       "        text-align: right;\n",
       "    }\n",
       "</style>\n",
       "<table border=\"1\" class=\"dataframe\">\n",
       "  <thead>\n",
       "    <tr style=\"text-align: right;\">\n",
       "      <th></th>\n",
       "      <th>manufacturer_name</th>\n",
       "      <th>model_name</th>\n",
       "      <th>transmission</th>\n",
       "      <th>color</th>\n",
       "      <th>odometer_value</th>\n",
       "      <th>year_produced</th>\n",
       "      <th>engine_fuel</th>\n",
       "      <th>engine_has_gas</th>\n",
       "      <th>engine_type</th>\n",
       "      <th>engine_capacity</th>\n",
       "      <th>...</th>\n",
       "      <th>feature_1</th>\n",
       "      <th>feature_2</th>\n",
       "      <th>feature_3</th>\n",
       "      <th>feature_4</th>\n",
       "      <th>feature_5</th>\n",
       "      <th>feature_6</th>\n",
       "      <th>feature_7</th>\n",
       "      <th>feature_8</th>\n",
       "      <th>feature_9</th>\n",
       "      <th>duration_listed</th>\n",
       "    </tr>\n",
       "  </thead>\n",
       "  <tbody>\n",
       "    <tr>\n",
       "      <th>0</th>\n",
       "      <td>Subaru</td>\n",
       "      <td>Outback</td>\n",
       "      <td>automatic</td>\n",
       "      <td>silver</td>\n",
       "      <td>190000</td>\n",
       "      <td>2010</td>\n",
       "      <td>gasoline</td>\n",
       "      <td>False</td>\n",
       "      <td>gasoline</td>\n",
       "      <td>2.5</td>\n",
       "      <td>...</td>\n",
       "      <td>True</td>\n",
       "      <td>True</td>\n",
       "      <td>True</td>\n",
       "      <td>False</td>\n",
       "      <td>True</td>\n",
       "      <td>False</td>\n",
       "      <td>True</td>\n",
       "      <td>True</td>\n",
       "      <td>True</td>\n",
       "      <td>16</td>\n",
       "    </tr>\n",
       "    <tr>\n",
       "      <th>1</th>\n",
       "      <td>Subaru</td>\n",
       "      <td>Outback</td>\n",
       "      <td>automatic</td>\n",
       "      <td>blue</td>\n",
       "      <td>290000</td>\n",
       "      <td>2002</td>\n",
       "      <td>gasoline</td>\n",
       "      <td>False</td>\n",
       "      <td>gasoline</td>\n",
       "      <td>3.0</td>\n",
       "      <td>...</td>\n",
       "      <td>True</td>\n",
       "      <td>False</td>\n",
       "      <td>False</td>\n",
       "      <td>True</td>\n",
       "      <td>True</td>\n",
       "      <td>False</td>\n",
       "      <td>False</td>\n",
       "      <td>False</td>\n",
       "      <td>True</td>\n",
       "      <td>83</td>\n",
       "    </tr>\n",
       "    <tr>\n",
       "      <th>2</th>\n",
       "      <td>Subaru</td>\n",
       "      <td>Forester</td>\n",
       "      <td>automatic</td>\n",
       "      <td>red</td>\n",
       "      <td>402000</td>\n",
       "      <td>2001</td>\n",
       "      <td>gasoline</td>\n",
       "      <td>False</td>\n",
       "      <td>gasoline</td>\n",
       "      <td>2.5</td>\n",
       "      <td>...</td>\n",
       "      <td>True</td>\n",
       "      <td>False</td>\n",
       "      <td>False</td>\n",
       "      <td>False</td>\n",
       "      <td>False</td>\n",
       "      <td>False</td>\n",
       "      <td>False</td>\n",
       "      <td>True</td>\n",
       "      <td>True</td>\n",
       "      <td>151</td>\n",
       "    </tr>\n",
       "    <tr>\n",
       "      <th>3</th>\n",
       "      <td>Subaru</td>\n",
       "      <td>Impreza</td>\n",
       "      <td>mechanical</td>\n",
       "      <td>blue</td>\n",
       "      <td>10000</td>\n",
       "      <td>1999</td>\n",
       "      <td>gasoline</td>\n",
       "      <td>False</td>\n",
       "      <td>gasoline</td>\n",
       "      <td>3.0</td>\n",
       "      <td>...</td>\n",
       "      <td>False</td>\n",
       "      <td>False</td>\n",
       "      <td>False</td>\n",
       "      <td>False</td>\n",
       "      <td>False</td>\n",
       "      <td>False</td>\n",
       "      <td>False</td>\n",
       "      <td>False</td>\n",
       "      <td>False</td>\n",
       "      <td>86</td>\n",
       "    </tr>\n",
       "    <tr>\n",
       "      <th>4</th>\n",
       "      <td>Subaru</td>\n",
       "      <td>Legacy</td>\n",
       "      <td>automatic</td>\n",
       "      <td>black</td>\n",
       "      <td>280000</td>\n",
       "      <td>2001</td>\n",
       "      <td>gasoline</td>\n",
       "      <td>False</td>\n",
       "      <td>gasoline</td>\n",
       "      <td>2.5</td>\n",
       "      <td>...</td>\n",
       "      <td>True</td>\n",
       "      <td>False</td>\n",
       "      <td>True</td>\n",
       "      <td>True</td>\n",
       "      <td>False</td>\n",
       "      <td>False</td>\n",
       "      <td>False</td>\n",
       "      <td>False</td>\n",
       "      <td>True</td>\n",
       "      <td>7</td>\n",
       "    </tr>\n",
       "  </tbody>\n",
       "</table>\n",
       "<p>5 rows × 30 columns</p>\n",
       "</div>"
      ],
      "text/plain": [
       "  manufacturer_name model_name transmission   color  odometer_value   \n",
       "0            Subaru    Outback    automatic  silver          190000  \\\n",
       "1            Subaru    Outback    automatic    blue          290000   \n",
       "2            Subaru   Forester    automatic     red          402000   \n",
       "3            Subaru    Impreza   mechanical    blue           10000   \n",
       "4            Subaru     Legacy    automatic   black          280000   \n",
       "\n",
       "   year_produced engine_fuel  engine_has_gas engine_type  engine_capacity   \n",
       "0           2010    gasoline           False    gasoline              2.5  \\\n",
       "1           2002    gasoline           False    gasoline              3.0   \n",
       "2           2001    gasoline           False    gasoline              2.5   \n",
       "3           1999    gasoline           False    gasoline              3.0   \n",
       "4           2001    gasoline           False    gasoline              2.5   \n",
       "\n",
       "   ... feature_1  feature_2 feature_3 feature_4  feature_5  feature_6   \n",
       "0  ...      True       True      True     False       True      False  \\\n",
       "1  ...      True      False     False      True       True      False   \n",
       "2  ...      True      False     False     False      False      False   \n",
       "3  ...     False      False     False     False      False      False   \n",
       "4  ...      True      False      True      True      False      False   \n",
       "\n",
       "  feature_7  feature_8  feature_9  duration_listed  \n",
       "0      True       True       True               16  \n",
       "1     False      False       True               83  \n",
       "2     False       True       True              151  \n",
       "3     False      False      False               86  \n",
       "4     False      False       True                7  \n",
       "\n",
       "[5 rows x 30 columns]"
      ]
     },
     "execution_count": 11,
     "metadata": {},
     "output_type": "execute_result"
    }
   ],
   "source": [
    "import os\n",
    "\n",
    "# Verify if the code is run as an script or in an interactive environment\n",
    "# Get the current directory\n",
    "\n",
    "if '__file__' in globals():\n",
    "    current_dir = os.path.dirname(__file__)\n",
    "else:\n",
    "    current_dir = os.getcwd()\n",
    "\n",
    "csv_path = os.path.join(current_dir, \"datasets\", \"cars.csv\")\n",
    "\n",
    "csv_path\n",
    "\n",
    "df = pd.read_csv(csv_path)\n",
    "\n",
    "df.head()"
   ]
  },
  {
   "cell_type": "code",
   "execution_count": 12,
   "metadata": {},
   "outputs": [
    {
     "data": {
      "text/plain": [
       "<Axes: >"
      ]
     },
     "execution_count": 12,
     "metadata": {},
     "output_type": "execute_result"
    },
    {
     "data": {
      "image/png": "[encoded data removed]",
      "text/plain": [
       "<Figure size 640x480 with 1 Axes>"
      ]
     },
     "metadata": {},
     "output_type": "display_data"
    }
   ],
   "source": [
    "df.price_usd.hist()"
   ]
  },
  {
   "attachments": {},
   "cell_type": "markdown",
   "metadata": {},
   "source": [
    "Transformación con $tanh(x)$"
   ]
  },
  {
   "cell_type": "code",
   "execution_count": 18,
   "metadata": {},
   "outputs": [
    {
     "data": {
      "text/plain": [
       "<Axes: >"
      ]
     },
     "execution_count": 18,
     "metadata": {},
     "output_type": "execute_result"
    },
    {
     "data": {
      "image/png": "[encoded data removed]",
      "text/plain": [
       "<Figure size 640x480 with 1 Axes>"
      ]
     },
     "metadata": {},
     "output_type": "display_data"
    }
   ],
   "source": [
    "p = 10000\n",
    "df.price_usd.apply(lambda x: np.tanh(x/p)).hist()"
   ]
  },
  {
   "attachments": {},
   "cell_type": "markdown",
   "metadata": {},
   "source": [
    "* mapear datos a una distribucion gaussiana: https://scikit-learn.org/stable/auto_examples/preprocessing/plot_map_data_to_normal.html#sphx-glr-auto-examples-preprocessing-plot-map-data-to-normal-py"
   ]
  }
 ],
 "metadata": {
  "kernelspec": {
   "display_name": "env",
   "language": "python",
   "name": "python3"
  },
  "language_info": {
   "codemirror_mode": {
    "name": "ipython",
    "version": 3
   },
   "file_extension": ".py",
   "mimetype": "text/x-python",
   "name": "python",
   "nbconvert_exporter": "python",
   "pygments_lexer": "ipython3",
   "version": "3.10.6"
  },
  "orig_nbformat": 4
 },
 "nbformat": 4,
 "nbformat_minor": 2
}
